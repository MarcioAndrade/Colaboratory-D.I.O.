{
 "cells": [
  {
   "cell_type": "code",
   "execution_count": 2,
   "id": "2250e788-3ace-4b05-b57e-0ac5adc54346",
   "metadata": {},
   "outputs": [
    {
     "name": "stdout",
     "output_type": "stream",
     "text": [
      "hello word\n"
     ]
    }
   ],
   "source": [
    "print('hello word')"
   ]
  },
  {
   "cell_type": "code",
   "execution_count": 4,
   "id": "bab6d638-62ef-4c80-ad31-a6fa47dfd818",
   "metadata": {},
   "outputs": [],
   "source": [
    "nome = 'Marcio'"
   ]
  },
  {
   "cell_type": "code",
   "execution_count": 5,
   "id": "e04357e2-d69c-46cc-a6dc-95354290f62d",
   "metadata": {},
   "outputs": [],
   "source": [
    "import os"
   ]
  },
  {
   "cell_type": "code",
   "execution_count": 6,
   "id": "4bcabad3-4354-4200-95d0-bac7cced2374",
   "metadata": {},
   "outputs": [],
   "source": [
    "caminho = os.getcwd()"
   ]
  },
  {
   "cell_type": "code",
   "execution_count": 7,
   "id": "8eb6d699-145a-4534-b921-ee9f80bbff4b",
   "metadata": {},
   "outputs": [
    {
     "name": "stdout",
     "output_type": "stream",
     "text": [
      "C:\\Source\\Jupyter\n"
     ]
    }
   ],
   "source": [
    "print(caminho)"
   ]
  }
 ],
 "metadata": {
  "kernelspec": {
   "display_name": "Python 3 (ipykernel)",
   "language": "python",
   "name": "python3"
  },
  "language_info": {
   "codemirror_mode": {
    "name": "ipython",
    "version": 3
   },
   "file_extension": ".py",
   "mimetype": "text/x-python",
   "name": "python",
   "nbconvert_exporter": "python",
   "pygments_lexer": "ipython3",
   "version": "3.13.2"
  }
 },
 "nbformat": 4,
 "nbformat_minor": 5
}
