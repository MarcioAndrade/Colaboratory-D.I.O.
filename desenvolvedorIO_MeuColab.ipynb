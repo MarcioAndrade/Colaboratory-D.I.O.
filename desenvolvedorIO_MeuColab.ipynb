{
  "nbformat": 4,
  "nbformat_minor": 0,
  "metadata": {
    "colab": {
      "provenance": [],
      "authorship_tag": "ABX9TyPAB8ML8QNK5XUg3uh5Qp4B",
      "include_colab_link": true
    },
    "kernelspec": {
      "name": "python3",
      "display_name": "Python 3"
    },
    "language_info": {
      "name": "python"
    }
  },
  "cells": [
    {
      "cell_type": "markdown",
      "metadata": {
        "id": "view-in-github",
        "colab_type": "text"
      },
      "source": [
        "<a href=\"https://colab.research.google.com/github/MarcioAndrade/Colaboratory-D.I.O./blob/main/desenvolvedorIO_MeuColab.ipynb\" target=\"_parent\"><img src=\"https://colab.research.google.com/assets/colab-badge.svg\" alt=\"Open In Colab\"/></a>"
      ]
    },
    {
      "cell_type": "code",
      "source": [
        "!pip install numpy"
      ],
      "metadata": {
        "colab": {
          "base_uri": "https://localhost:8080/"
        },
        "id": "T4fgG64MX2TE",
        "outputId": "d45ded64-d505-4dd2-b0e8-305482adf997"
      },
      "execution_count": null,
      "outputs": [
        {
          "output_type": "stream",
          "name": "stdout",
          "text": [
            "Requirement already satisfied: numpy in /usr/local/lib/python3.11/dist-packages (1.26.4)\n"
          ]
        }
      ]
    },
    {
      "cell_type": "code",
      "source": [
        "import numpy as np"
      ],
      "metadata": {
        "id": "E88OVXxpXVAu"
      },
      "execution_count": null,
      "outputs": []
    },
    {
      "cell_type": "code",
      "source": [
        "array = np.array([1, 2, 3, 4, 5])\n",
        "mean_value = np.mean(array)\n",
        "sum_value = np.sum(array)\n",
        "count_value = np.count_nonzero(array)\n",
        "print(\"Soma do array: \", sum_value)\n",
        "print(\"Tamanho do array: \", count_value)\n",
        "print(\"Média do array: \", mean_value)"
      ],
      "metadata": {
        "colab": {
          "base_uri": "https://localhost:8080/"
        },
        "id": "sQRr_-h3ZsgU",
        "outputId": "df25ed9e-ecf0-41cb-aa3d-291968b044a1"
      },
      "execution_count": null,
      "outputs": [
        {
          "output_type": "stream",
          "name": "stdout",
          "text": [
            "Soma do array:  15\n",
            "Tamanho do array:  5\n",
            "Média do array:  3.0\n"
          ]
        }
      ]
    },
    {
      "cell_type": "markdown",
      "source": [],
      "metadata": {
        "id": "BTriaVeOas82"
      }
    },
    {
      "cell_type": "code",
      "source": [
        "semente = 42\n",
        "np.random.seed(semente)\n",
        "\n",
        "matrix = np.random.rand(3, 3)\n",
        "print(\"Matriz original:\\n\", matrix)\n",
        "print(\"Matriz transposta:\\n\", matrix.T)"
      ],
      "metadata": {
        "colab": {
          "base_uri": "https://localhost:8080/"
        },
        "id": "N-iP-7-nap2a",
        "outputId": "037d012d-79d8-433e-be04-914b9da1b53f"
      },
      "execution_count": null,
      "outputs": [
        {
          "output_type": "stream",
          "name": "stdout",
          "text": [
            "Matriz original:\n",
            " [[0.37454012 0.95071431 0.73199394]\n",
            " [0.59865848 0.15601864 0.15599452]\n",
            " [0.05808361 0.86617615 0.60111501]]\n",
            "Matriz transposta:\n",
            " [[0.37454012 0.59865848 0.05808361]\n",
            " [0.95071431 0.15601864 0.86617615]\n",
            " [0.73199394 0.15599452 0.60111501]]\n"
          ]
        }
      ]
    },
    {
      "cell_type": "code",
      "source": [
        "import pandas as pd"
      ],
      "metadata": {
        "id": "wTfWiC8BcD3S"
      },
      "execution_count": null,
      "outputs": []
    },
    {
      "cell_type": "code",
      "source": [
        "data = {\"Nome\": [\"Ana\", \"Bruno\", \"Carla\"],\n",
        "        \"Idade\": [28, 34, 22],\n",
        "        \"Salário\": [5000, 5100, 5200]}\n",
        "df = pd.DataFrame(data)"
      ],
      "metadata": {
        "id": "lMLGhR4ucHPe"
      },
      "execution_count": null,
      "outputs": []
    },
    {
      "cell_type": "code",
      "source": [
        "print(df.info())"
      ],
      "metadata": {
        "colab": {
          "base_uri": "https://localhost:8080/"
        },
        "id": "XGGQRcunc66_",
        "outputId": "ee6b6491-9470-4a22-c7ba-1ce806832acf"
      },
      "execution_count": null,
      "outputs": [
        {
          "output_type": "stream",
          "name": "stdout",
          "text": [
            "<class 'pandas.core.frame.DataFrame'>\n",
            "RangeIndex: 3 entries, 0 to 2\n",
            "Data columns (total 3 columns):\n",
            " #   Column   Non-Null Count  Dtype \n",
            "---  ------   --------------  ----- \n",
            " 0   Nome     3 non-null      object\n",
            " 1   Idade    3 non-null      int64 \n",
            " 2   Salário  3 non-null      int64 \n",
            "dtypes: int64(2), object(1)\n",
            "memory usage: 204.0+ bytes\n",
            "None\n"
          ]
        }
      ]
    },
    {
      "cell_type": "code",
      "source": [
        "print(df.describe())"
      ],
      "metadata": {
        "colab": {
          "base_uri": "https://localhost:8080/"
        },
        "id": "VNRu1zO3c_Q4",
        "outputId": "4f3bb8d6-c4d0-47aa-8bec-95791eb5c4a4"
      },
      "execution_count": null,
      "outputs": [
        {
          "output_type": "stream",
          "name": "stdout",
          "text": [
            "       Idade  Salário\n",
            "count    3.0      3.0\n",
            "mean    28.0   5100.0\n",
            "std      6.0    100.0\n",
            "min     22.0   5000.0\n",
            "25%     25.0   5050.0\n",
            "50%     28.0   5100.0\n",
            "75%     31.0   5150.0\n",
            "max     34.0   5200.0\n"
          ]
        }
      ]
    },
    {
      "cell_type": "code",
      "source": [
        "from sklearn.model_selection import train_test_split"
      ],
      "metadata": {
        "id": "LptFQ-TrgYHm"
      },
      "execution_count": null,
      "outputs": []
    },
    {
      "cell_type": "code",
      "source": [
        "semente = 42\n",
        "x = [[1, 2], [3, 4], [5, 6], [7, 8], [9, 10]]\n",
        "y = [0, 1, 0, 1, 0]\n",
        "x_train, x_test, y_train, y_test = train_test_split(x, y, test_size=0.2, random_state=semente)\n",
        "\n",
        "print(\"Conjunto de treino: \", x_train)\n",
        "print(\"Conjunto de teste: \", x_test)\n",
        "\n",
        "# print(\"Conjunto de treino: \", y_train)\n",
        "# print(\"Conjunto de teste: \", y_test)"
      ],
      "metadata": {
        "colab": {
          "base_uri": "https://localhost:8080/"
        },
        "id": "vACpI6f1gpU2",
        "outputId": "2787e161-f560-452b-94a0-790ab0b7ddf1"
      },
      "execution_count": null,
      "outputs": [
        {
          "output_type": "stream",
          "name": "stdout",
          "text": [
            "Conjunto de treino:  [[9, 10], [5, 6], [1, 2], [7, 8]]\n",
            "Conjunto de teste:  [[3, 4]]\n",
            "Conjunto de treino:  [0, 0, 0, 1]\n",
            "Conjunto de teste:  [1]\n"
          ]
        }
      ]
    },
    {
      "cell_type": "code",
      "source": [
        "from sklearn.linear_model import LinearRegression"
      ],
      "metadata": {
        "id": "FPdosYPMkPNf"
      },
      "execution_count": null,
      "outputs": []
    },
    {
      "cell_type": "code",
      "source": [
        "x = [[1], [2], [3], [4], [5]]\n",
        "y = [2, 4, 6, 8, 10]\n",
        "model = LinearRegression()\n",
        "model.fit(x, y)\n",
        "print(\"Coeficiente: \", model.coef_)\n",
        "print(\"Interceptação: \", model.intercept_)"
      ],
      "metadata": {
        "colab": {
          "base_uri": "https://localhost:8080/"
        },
        "id": "0_xob7jwkaTg",
        "outputId": "ef62b540-9e18-44e1-f866-55f2cc4f739e"
      },
      "execution_count": null,
      "outputs": [
        {
          "output_type": "stream",
          "name": "stdout",
          "text": [
            "Coeficiente:  [2.]\n",
            "Interceptação:  0.0\n"
          ]
        }
      ]
    },
    {
      "cell_type": "code",
      "source": [
        "!pip install matplotlib"
      ],
      "metadata": {
        "colab": {
          "base_uri": "https://localhost:8080/"
        },
        "id": "tl7zKnKAlGzX",
        "outputId": "1a21bd85-b186-4281-b877-4acfdcbfb1d8"
      },
      "execution_count": null,
      "outputs": [
        {
          "output_type": "stream",
          "name": "stdout",
          "text": [
            "Requirement already satisfied: matplotlib in /usr/local/lib/python3.11/dist-packages (3.10.0)\n",
            "Requirement already satisfied: contourpy>=1.0.1 in /usr/local/lib/python3.11/dist-packages (from matplotlib) (1.3.1)\n",
            "Requirement already satisfied: cycler>=0.10 in /usr/local/lib/python3.11/dist-packages (from matplotlib) (0.12.1)\n",
            "Requirement already satisfied: fonttools>=4.22.0 in /usr/local/lib/python3.11/dist-packages (from matplotlib) (4.56.0)\n",
            "Requirement already satisfied: kiwisolver>=1.3.1 in /usr/local/lib/python3.11/dist-packages (from matplotlib) (1.4.8)\n",
            "Requirement already satisfied: numpy>=1.23 in /usr/local/lib/python3.11/dist-packages (from matplotlib) (1.26.4)\n",
            "Requirement already satisfied: packaging>=20.0 in /usr/local/lib/python3.11/dist-packages (from matplotlib) (24.2)\n",
            "Requirement already satisfied: pillow>=8 in /usr/local/lib/python3.11/dist-packages (from matplotlib) (11.1.0)\n",
            "Requirement already satisfied: pyparsing>=2.3.1 in /usr/local/lib/python3.11/dist-packages (from matplotlib) (3.2.1)\n",
            "Requirement already satisfied: python-dateutil>=2.7 in /usr/local/lib/python3.11/dist-packages (from matplotlib) (2.8.2)\n",
            "Requirement already satisfied: six>=1.5 in /usr/local/lib/python3.11/dist-packages (from python-dateutil>=2.7->matplotlib) (1.17.0)\n"
          ]
        }
      ]
    },
    {
      "cell_type": "code",
      "source": [
        "import matplotlib.pyplot as plt\n"
      ],
      "metadata": {
        "id": "tistkKG3lSWS"
      },
      "execution_count": null,
      "outputs": []
    },
    {
      "cell_type": "code",
      "source": [
        "x_pred = np.linspace(0, 6, 100).reshape(-1, 1) #Gera 100 pontos no intervalo de 0 a 6\n",
        "y_pred = model.predict(x_pred)"
      ],
      "metadata": {
        "id": "uLMznV8Olg4N"
      },
      "execution_count": null,
      "outputs": []
    },
    {
      "cell_type": "code",
      "source": [
        "plt.scatter(x, y, color='blue', label=\"Dados originais\") # Pontos de dados originais\n",
        "plt.plot(x_pred, y_pred, color='red', label=\"Linha de regressão\") # Linha de regressão\n",
        "plt.title('Regressão linear')\n",
        "plt.xlabel(\"X\")\n",
        "plt.ylabel('Y')\n",
        "plt.legend()\n",
        "plt.grid(True)\n",
        "plt.show()"
      ],
      "metadata": {
        "colab": {
          "base_uri": "https://localhost:8080/",
          "height": 472
        },
        "id": "RYh-eFlumTjL",
        "outputId": "54e18ad7-0513-46b7-e4cd-8b074545be60"
      },
      "execution_count": null,
      "outputs": [
        {
          "output_type": "display_data",
          "data": {
            "text/plain": [
              "<Figure size 640x480 with 1 Axes>"
            ],
            "image/png": "[encoded data removed]"
          },
          "metadata": {}
        }
      ]
    },
    {
      "cell_type": "markdown",
      "source": [
        "## Coleta de dados"
      ],
      "metadata": {
        "id": "M_doTRXbCD1B"
      }
    },
    {
      "cell_type": "code",
      "source": [
        "import pandas as pd"
      ],
      "metadata": {
        "id": "duwBMbj5_2c0"
      },
      "execution_count": 1,
      "outputs": []
    },
    {
      "cell_type": "code",
      "source": [
        "# URL da base de dados Iris no UCI Machine Learning Repository\n",
        "url = 'https://archive.ics.uci.edu/ml/machine-learning-databases/iris/iris.data'\n",
        "\n",
        "# Carregar a base de dados com nomes de colunas\n",
        "colunas = ['SepalLength', 'SepalWidth', 'PetalLength', 'PetalWidth', 'Class']\n",
        "df = pd.read_csv(url, header=None, names=colunas)\n",
        "\n",
        "# Exibir as primeiras linhas da base de dados\n",
        "print(df.head())"
      ],
      "metadata": {
        "colab": {
          "base_uri": "https://localhost:8080/"
        },
        "id": "Ue_Sq-UHjnNi",
        "outputId": "7640e918-aab1-4c48-b39f-d621b9d0fc1c"
      },
      "execution_count": 3,
      "outputs": [
        {
          "output_type": "stream",
          "name": "stdout",
          "text": [
            "   SepalLength  SepalWidth  PetalLength  PetalWidth        Class\n",
            "0          5.1         3.5          1.4         0.2  Iris-setosa\n",
            "1          4.9         3.0          1.4         0.2  Iris-setosa\n",
            "2          4.7         3.2          1.3         0.2  Iris-setosa\n",
            "3          4.6         3.1          1.5         0.2  Iris-setosa\n",
            "4          5.0         3.6          1.4         0.2  Iris-setosa\n"
          ]
        }
      ]
    },
    {
      "cell_type": "code",
      "source": [
        "import requests"
      ],
      "metadata": {
        "id": "RUGu731_k_oq"
      },
      "execution_count": 5,
      "outputs": []
    },
    {
      "cell_type": "code",
      "source": [
        "# URL da API pública que retorna um conjunto de dados em formato JSON\n",
        "url = 'https://jsonplaceholder.typicode.com/posts'\n",
        "\n",
        "# Fazer a solicitação GET à API\n",
        "response = requests.get(url)\n",
        "\n",
        "if response.status_code == 200:\n",
        "  data = response.json() # Converter a resposta para JSON\n",
        "  df = pd.DataFrame(data)\n",
        "  print(df.head())\n",
        "else:\n",
        "  print(\"Erro ao acessar a API: \", response.status_code)"
      ],
      "metadata": {
        "colab": {
          "base_uri": "https://localhost:8080/"
        },
        "id": "LNJOSTy5lCOT",
        "outputId": "cb920706-2fed-4188-ea6e-f20322f21f1e"
      },
      "execution_count": 6,
      "outputs": [
        {
          "output_type": "stream",
          "name": "stdout",
          "text": [
            "   userId  id                                              title  \\\n",
            "0       1   1  sunt aut facere repellat provident occaecati e...   \n",
            "1       1   2                                       qui est esse   \n",
            "2       1   3  ea molestias quasi exercitationem repellat qui...   \n",
            "3       1   4                               eum et est occaecati   \n",
            "4       1   5                                 nesciunt quas odio   \n",
            "\n",
            "                                                body  \n",
            "0  quia et suscipit\\nsuscipit recusandae consequu...  \n",
            "1  est rerum tempore vitae\\nsequi sint nihil repr...  \n",
            "2  et iusto sed quo iure\\nvoluptatem occaecati om...  \n",
            "3  ullam et saepe reiciendis voluptatem adipisci\\...  \n",
            "4  repudiandae veniam quaerat sunt sed\\nalias aut...  \n"
          ]
        }
      ]
    },
    {
      "cell_type": "markdown",
      "source": [
        "## Descrição do Dataset"
      ],
      "metadata": {
        "id": "fl52p1qMB0NN"
      }
    },
    {
      "cell_type": "code",
      "source": [],
      "metadata": {
        "id": "SHUT09vlHAsB"
      },
      "execution_count": null,
      "outputs": []
    },
    {
      "cell_type": "code",
      "source": [
        "# URL da base de dados Iris no UCI Machine Learning Repository\n",
        "url = 'https://archive.ics.uci.edu/ml/machine-learning-databases/iris/iris.data'\n",
        "\n",
        "# Carregar a base de dados com nomes de colunas\n",
        "colunas = ['SepalLength', 'SepalWidth', 'PetalLength', 'PetalWidth', 'Class']\n",
        "df = pd.read_csv(url, header=None, names=colunas)"
      ],
      "metadata": {
        "id": "RasWOi4UB52B"
      },
      "execution_count": 7,
      "outputs": []
    },
    {
      "cell_type": "code",
      "source": [
        "print(df.info()) # Mostrar informações sobre tipos de dados e quantidade de valores não nulos\n",
        "\n"
      ],
      "metadata": {
        "colab": {
          "base_uri": "https://localhost:8080/"
        },
        "id": "wipyawGTDq44",
        "outputId": "533f8e35-1e76-452c-8db3-8a41449870e8"
      },
      "execution_count": 8,
      "outputs": [
        {
          "output_type": "stream",
          "name": "stdout",
          "text": [
            "<class 'pandas.core.frame.DataFrame'>\n",
            "RangeIndex: 150 entries, 0 to 149\n",
            "Data columns (total 5 columns):\n",
            " #   Column       Non-Null Count  Dtype  \n",
            "---  ------       --------------  -----  \n",
            " 0   SepalLength  150 non-null    float64\n",
            " 1   SepalWidth   150 non-null    float64\n",
            " 2   PetalLength  150 non-null    float64\n",
            " 3   PetalWidth   150 non-null    float64\n",
            " 4   Class        150 non-null    object \n",
            "dtypes: float64(4), object(1)\n",
            "memory usage: 6.0+ KB\n",
            "None\n"
          ]
        }
      ]
    },
    {
      "cell_type": "markdown",
      "source": [
        "## Exploração"
      ],
      "metadata": {
        "id": "1xPkq0dvEtEq"
      }
    },
    {
      "cell_type": "code",
      "source": [
        "import matplotlib.pyplot as plt"
      ],
      "metadata": {
        "id": "lK8f2hgFEwpP"
      },
      "execution_count": 9,
      "outputs": []
    },
    {
      "cell_type": "code",
      "source": [
        "df['SepalLength'].hist(bins=20)\n",
        "plt.title('Distribuição da coluna de interesse')\n",
        "plt.xlabel('Valores')\n",
        "plt.ylabel('Frequência')\n",
        "plt.show()"
      ],
      "metadata": {
        "colab": {
          "base_uri": "https://localhost:8080/",
          "height": 472
        },
        "id": "CrO5L2s7E12Q",
        "outputId": "abf01333-48ae-43a5-c274-787131c8d177"
      },
      "execution_count": 10,
      "outputs": [
        {
          "output_type": "display_data",
          "data": {
            "text/plain": [
              "<Figure size 640x480 with 1 Axes>"
            ],
            "image/png": "[encoded data removed]"
          },
          "metadata": {}
        }
      ]
    },
    {
      "cell_type": "code",
      "source": [
        "plt.scatter(df['SepalLength'], df['Class'])\n",
        "plt.title('Gráfico de Dispersão')\n",
        "plt.xlabel('Coluna X')\n",
        "plt.ylabel('Coluna Y')\n",
        "plt.show()"
      ],
      "metadata": {
        "colab": {
          "base_uri": "https://localhost:8080/",
          "height": 472
        },
        "id": "ZKX3M7VdFQ8J",
        "outputId": "ff664e17-856f-499a-9476-bcb56ca07603"
      },
      "execution_count": 11,
      "outputs": [
        {
          "output_type": "display_data",
          "data": {
            "text/plain": [
              "<Figure size 640x480 with 1 Axes>"
            ],
            "image/png": "[encoded data removed]"
          },
          "metadata": {}
        }
      ]
    },
    {
      "cell_type": "markdown",
      "source": [
        "## Verificação de dados"
      ],
      "metadata": {
        "id": "ajXNwzjhGm6c"
      }
    },
    {
      "cell_type": "code",
      "source": [
        "import pandas as pc\n",
        "\n",
        "# URL da base de dados Heart Disease do UCI Machine Learning Repository\n",
        "url = 'https://archive.ics.uci.edu/ml/machine-learning-databases/heart-disease/processed.cleveland.data'\n",
        "\n",
        "# Carregar a base de dados com nomes de colunas\n",
        "colunas = ['age', 'sex', 'cp', 'trestbps', 'chol', 'fbs', 'restecg', 'thalach', 'exng', 'oldpeak', 'slope', 'ca', 'thal', 'num']\n",
        "df = pd.read_csv(url, header=None, names=colunas)\n",
        "\n",
        "#Exibir as primeiras linhas da base de dados\n",
        "print(df.head())\n"
      ],
      "metadata": {
        "colab": {
          "base_uri": "https://localhost:8080/"
        },
        "id": "OV-fPSX4GpwE",
        "outputId": "cac72165-626b-49d7-dbc6-0c348bcbce5a"
      },
      "execution_count": 12,
      "outputs": [
        {
          "output_type": "stream",
          "name": "stdout",
          "text": [
            "    age  sex   cp  trestbps   chol  fbs  restecg  thalach  exng  oldpeak  \\\n",
            "0  63.0  1.0  1.0     145.0  233.0  1.0      2.0    150.0   0.0      2.3   \n",
            "1  67.0  1.0  4.0     160.0  286.0  0.0      2.0    108.0   1.0      1.5   \n",
            "2  67.0  1.0  4.0     120.0  229.0  0.0      2.0    129.0   1.0      2.6   \n",
            "3  37.0  1.0  3.0     130.0  250.0  0.0      0.0    187.0   0.0      3.5   \n",
            "4  41.0  0.0  2.0     130.0  204.0  0.0      2.0    172.0   0.0      1.4   \n",
            "\n",
            "   slope   ca thal  num  \n",
            "0    3.0  0.0  6.0    0  \n",
            "1    2.0  3.0  3.0    2  \n",
            "2    2.0  2.0  7.0    1  \n",
            "3    3.0  0.0  3.0    0  \n",
            "4    1.0  0.0  3.0    0  \n"
          ]
        }
      ]
    },
    {
      "cell_type": "code",
      "source": [
        "# Verificar em quais colunas existem valores com '?'\n",
        "colunas_com_interrogacao = df.columns[(df == '?').any()].tolist()\n",
        "\n",
        "#Exibir colunas que contêm o valor '?'\n",
        "print(\"Colunas que contêm '?': \", colunas_com_interrogacao)"
      ],
      "metadata": {
        "colab": {
          "base_uri": "https://localhost:8080/"
        },
        "id": "icDAAbtrIDJH",
        "outputId": "ef814a00-d6ac-4ca5-9a7e-3b69d62af5a0"
      },
      "execution_count": 14,
      "outputs": [
        {
          "output_type": "stream",
          "name": "stdout",
          "text": [
            "Colunas que contêm '?':  ['ca', 'thal']\n"
          ]
        }
      ]
    },
    {
      "cell_type": "code",
      "source": [
        "import numpy as np\n",
        "\n",
        "# Substituir valores '?' por NaN\n",
        "df.replace('?', np.nan, inplace=True)\n",
        "\n",
        "# Converter colunas numéricas para o tipo correto\n",
        "# df = df.apply(pd.to_numeric, errors='ignore')\n",
        "df = df.apply(pd.to_numeric)"
      ],
      "metadata": {
        "id": "M1IAOLcQKB2V"
      },
      "execution_count": 18,
      "outputs": []
    },
    {
      "cell_type": "code",
      "source": [
        "# Identificar valores ausentes\n",
        "print(df.isnull().sum())"
      ],
      "metadata": {
        "colab": {
          "base_uri": "https://localhost:8080/"
        },
        "id": "2I2QSNfvKolo",
        "outputId": "536cb88d-225f-4e77-b82e-0f22a96a7d79"
      },
      "execution_count": 19,
      "outputs": [
        {
          "output_type": "stream",
          "name": "stdout",
          "text": [
            "age         0\n",
            "sex         0\n",
            "cp          0\n",
            "trestbps    0\n",
            "chol        0\n",
            "fbs         0\n",
            "restecg     0\n",
            "thalach     0\n",
            "exng        0\n",
            "oldpeak     0\n",
            "slope       0\n",
            "ca          4\n",
            "thal        2\n",
            "num         0\n",
            "dtype: int64\n"
          ]
        }
      ]
    },
    {
      "cell_type": "code",
      "source": [
        "# Verificar a quantidade de linhas duplicadas\n",
        "print(\"Linhas duplicadas: \", df.duplicated().sum())"
      ],
      "metadata": {
        "colab": {
          "base_uri": "https://localhost:8080/"
        },
        "id": "XXBaFidSKykI",
        "outputId": "78bf878a-2cea-4184-835b-6fabdc09d48b"
      },
      "execution_count": 20,
      "outputs": [
        {
          "output_type": "stream",
          "name": "stdout",
          "text": [
            "Linhas duplicadas:  0\n"
          ]
        }
      ]
    },
    {
      "cell_type": "code",
      "source": [
        "linha_duplicada = df.iloc[0].copy()\n",
        "\n",
        "df = pd.concat([df, pd.DataFrame([linha_duplicada])], ignore_index=True)\n",
        "\n",
        "df.info()"
      ],
      "metadata": {
        "colab": {
          "base_uri": "https://localhost:8080/"
        },
        "id": "3AWTl_fDL0fR",
        "outputId": "6086dd4f-50d5-4698-8dc2-b0a2838dc097"
      },
      "execution_count": 21,
      "outputs": [
        {
          "output_type": "stream",
          "name": "stdout",
          "text": [
            "<class 'pandas.core.frame.DataFrame'>\n",
            "RangeIndex: 304 entries, 0 to 303\n",
            "Data columns (total 14 columns):\n",
            " #   Column    Non-Null Count  Dtype  \n",
            "---  ------    --------------  -----  \n",
            " 0   age       304 non-null    float64\n",
            " 1   sex       304 non-null    float64\n",
            " 2   cp        304 non-null    float64\n",
            " 3   trestbps  304 non-null    float64\n",
            " 4   chol      304 non-null    float64\n",
            " 5   fbs       304 non-null    float64\n",
            " 6   restecg   304 non-null    float64\n",
            " 7   thalach   304 non-null    float64\n",
            " 8   exng      304 non-null    float64\n",
            " 9   oldpeak   304 non-null    float64\n",
            " 10  slope     304 non-null    float64\n",
            " 11  ca        300 non-null    float64\n",
            " 12  thal      302 non-null    float64\n",
            " 13  num       304 non-null    float64\n",
            "dtypes: float64(14)\n",
            "memory usage: 33.4 KB\n"
          ]
        }
      ]
    },
    {
      "cell_type": "code",
      "source": [
        "# Verificar a quantidade de linhas duplicadas\n",
        "print(\"Linhas duplicadas: \", df.duplicated().sum())"
      ],
      "metadata": {
        "colab": {
          "base_uri": "https://localhost:8080/"
        },
        "id": "pTIemqBNM7-W",
        "outputId": "306325bc-f658-4fa0-fcd2-9334f1740a4a"
      },
      "execution_count": 24,
      "outputs": [
        {
          "output_type": "stream",
          "name": "stdout",
          "text": [
            "Linhas duplicadas:  0\n"
          ]
        }
      ]
    },
    {
      "cell_type": "code",
      "source": [
        "# Remover duplicatas\n",
        "df.drop_duplicates(inplace=True)"
      ],
      "metadata": {
        "id": "xk2KVjuKNMnx"
      },
      "execution_count": 25,
      "outputs": []
    },
    {
      "cell_type": "code",
      "source": [
        "df.info()\n",
        "\n",
        "# Verificar a quantidade de linhas duplicadas\n",
        "print(\"Linhas duplicadas: \", df.duplicated().sum())"
      ],
      "metadata": {
        "colab": {
          "base_uri": "https://localhost:8080/"
        },
        "id": "DtMlNDeQNXmW",
        "outputId": "900afe41-21fb-443d-ebf6-bd7beb5efc15"
      },
      "execution_count": 27,
      "outputs": [
        {
          "output_type": "stream",
          "name": "stdout",
          "text": [
            "<class 'pandas.core.frame.DataFrame'>\n",
            "Index: 303 entries, 0 to 302\n",
            "Data columns (total 14 columns):\n",
            " #   Column    Non-Null Count  Dtype  \n",
            "---  ------    --------------  -----  \n",
            " 0   age       303 non-null    float64\n",
            " 1   sex       303 non-null    float64\n",
            " 2   cp        303 non-null    float64\n",
            " 3   trestbps  303 non-null    float64\n",
            " 4   chol      303 non-null    float64\n",
            " 5   fbs       303 non-null    float64\n",
            " 6   restecg   303 non-null    float64\n",
            " 7   thalach   303 non-null    float64\n",
            " 8   exng      303 non-null    float64\n",
            " 9   oldpeak   303 non-null    float64\n",
            " 10  slope     303 non-null    float64\n",
            " 11  ca        299 non-null    float64\n",
            " 12  thal      301 non-null    float64\n",
            " 13  num       303 non-null    float64\n",
            "dtypes: float64(14)\n",
            "memory usage: 35.5 KB\n",
            "Linhas duplicadas:  0\n"
          ]
        }
      ]
    },
    {
      "cell_type": "code",
      "source": [
        "plt.scatter(df['age'], df['thal'], alpha=0.6, c='blue', edgecolors='w')\n",
        "plt.title('Gráfico de Dispersão: Age vs. Thal')\n",
        "plt.xlabel('Age')\n",
        "plt.ylabel('Thal')\n",
        "plt.grid(True)\n",
        "plt.show()"
      ],
      "metadata": {
        "colab": {
          "base_uri": "https://localhost:8080/",
          "height": 472
        },
        "id": "zTvXkiRqOvX_",
        "outputId": "aa6d6257-3a67-48d9-e627-75546b795d8b"
      },
      "execution_count": 31,
      "outputs": [
        {
          "output_type": "display_data",
          "data": {
            "text/plain": [
              "<Figure size 640x480 with 1 Axes>"
            ],
            "image/png": "[encoded data removed]"
          },
          "metadata": {}
        }
      ]
    },
    {
      "cell_type": "code",
      "source": [
        "# Preencher valores ausentes com a média da coluna\n",
        "df['thal'].fillna(df['thal'].mean(), inplace=True)"
      ],
      "metadata": {
        "colab": {
          "base_uri": "https://localhost:8080/"
        },
        "id": "eHm-31-nOyHD",
        "outputId": "62e8fda0-1a08-4dd5-a65a-e825e72c0699"
      },
      "execution_count": 30,
      "outputs": [
        {
          "output_type": "stream",
          "name": "stderr",
          "text": [
            "<ipython-input-30-7a7b5a749523>:2: FutureWarning: A value is trying to be set on a copy of a DataFrame or Series through chained assignment using an inplace method.\n",
            "The behavior will change in pandas 3.0. This inplace method will never work because the intermediate object on which we are setting values always behaves as a copy.\n",
            "\n",
            "For example, when doing 'df[col].method(value, inplace=True)', try using 'df.method({col: value}, inplace=True)' or df[col] = df[col].method(value) instead, to perform the operation inplace on the original object.\n",
            "\n",
            "\n",
            "  df['thal'].fillna(df['thal'].mean(), inplace=True)\n"
          ]
        }
      ]
    },
    {
      "cell_type": "code",
      "source": [
        "plt.scatter(df['age'], df['ca'], alpha=0.6, c='blue', edgecolors='w')\n",
        "plt.title('Gráfico de Dispersão: Age vs. Ca')\n",
        "plt.xlabel('Age')\n",
        "plt.ylabel('Ca')\n",
        "plt.grid(True)\n",
        "plt.show()"
      ],
      "metadata": {
        "colab": {
          "base_uri": "https://localhost:8080/",
          "height": 472
        },
        "id": "VYL_koqSQS5P",
        "outputId": "3fb1e215-f0c4-4f00-9b02-1be599fffba3"
      },
      "execution_count": 34,
      "outputs": [
        {
          "output_type": "display_data",
          "data": {
            "text/plain": [
              "<Figure size 640x480 with 1 Axes>"
            ],
            "image/png": "[encoded data removed]"
          },
          "metadata": {}
        }
      ]
    },
    {
      "cell_type": "code",
      "source": [
        "# Preencher valores ausentes com a média da coluna\n",
        "df['ca'].fillna(df['ca'].mean(), inplace=True)"
      ],
      "metadata": {
        "colab": {
          "base_uri": "https://localhost:8080/"
        },
        "id": "kX8W2WTfRNT1",
        "outputId": "5130cd68-aa96-40bb-fe87-f0b3cc56929b"
      },
      "execution_count": 33,
      "outputs": [
        {
          "output_type": "stream",
          "name": "stderr",
          "text": [
            "<ipython-input-33-23759e0b6ea4>:2: FutureWarning: A value is trying to be set on a copy of a DataFrame or Series through chained assignment using an inplace method.\n",
            "The behavior will change in pandas 3.0. This inplace method will never work because the intermediate object on which we are setting values always behaves as a copy.\n",
            "\n",
            "For example, when doing 'df[col].method(value, inplace=True)', try using 'df.method({col: value}, inplace=True)' or df[col] = df[col].method(value) instead, to perform the operation inplace on the original object.\n",
            "\n",
            "\n",
            "  df['ca'].fillna(df['ca'].mean(), inplace=True)\n"
          ]
        }
      ]
    }
  ]
}