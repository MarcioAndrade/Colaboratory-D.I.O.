{
 "cells": [
  {
   "cell_type": "code",
   "execution_count": 1,
   "id": "bf9b2656-b314-4b7b-83cf-e03b00cf99e7",
   "metadata": {},
   "outputs": [
    {
     "name": "stdout",
     "output_type": "stream",
     "text": [
      "Hello world no docker!\n"
     ]
    }
   ],
   "source": [
    "print('Hello world no docker!')"
   ]
  },
  {
   "cell_type": "code",
   "execution_count": 3,
   "id": "9b98a8b6-582b-49ad-93f9-09e713826185",
   "metadata": {},
   "outputs": [],
   "source": [
    "import os"
   ]
  },
  {
   "cell_type": "code",
   "execution_count": 5,
   "id": "9f2a07c3-e75b-4e66-978b-4ac4f296e612",
   "metadata": {},
   "outputs": [
    {
     "name": "stdout",
     "output_type": "stream",
     "text": [
      "C:\\Source\\Jupyter\n"
     ]
    }
   ],
   "source": [
    "print(os.getcwd())"
   ]
  },
  {
   "cell_type": "code",
   "execution_count": null,
   "id": "4537224a-6eb7-406c-b10f-8d3ddac65916",
   "metadata": {},
   "outputs": [],
   "source": []
  }
 ],
 "metadata": {
  "kernelspec": {
   "display_name": "Python 3 (ipykernel)",
   "language": "python",
   "name": "python3"
  },
  "language_info": {
   "codemirror_mode": {
    "name": "ipython",
    "version": 3
   },
   "file_extension": ".py",
   "mimetype": "text/x-python",
   "name": "python",
   "nbconvert_exporter": "python",
   "pygments_lexer": "ipython3",
   "version": "3.13.2"
  }
 },
 "nbformat": 4,
 "nbformat_minor": 5
}
